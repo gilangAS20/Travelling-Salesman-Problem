{
  "cells": [
    {
      "cell_type": "markdown",
      "metadata": {
        "id": "rnchFzQ0_aGs"
      },
      "source": [
        "# TRAVELLING SALESMAN PROBLEM"
      ]
    },
    {
      "cell_type": "code",
      "execution_count": 10,
      "metadata": {
        "id": "MGu8xyir_TUS"
      },
      "outputs": [],
      "source": [
        "#import library yang diperlukan\n",
        "\n",
        "import random\n",
        "import matplotlib.pyplot as plt\n",
        "import numpy as np"
      ]
    },
    {
      "cell_type": "markdown",
      "metadata": {
        "id": "e9zIXbLvBI6a"
      },
      "source": [
        "## MENENTUKAN KOORDINAT KOTA"
      ]
    },
    {
      "cell_type": "code",
      "execution_count": 11,
      "metadata": {
        "colab": {
          "base_uri": "https://localhost:8080/"
        },
        "id": "XT6Fc51ZAKr4",
        "outputId": "5c12a912-a63e-4fe6-c3fd-142ee44822b5"
      },
      "outputs": [
        {
          "name": "stdout",
          "output_type": "stream",
          "text": [
            "0 0 \n",
            "5 6 \n",
            "1 4 \n",
            "3 4 \n",
            "7 7 \n"
          ]
        }
      ],
      "source": [
        "# Menentukan Koordinat Kota  (coba D E C B A)\n",
        "#  0 = [0, 0]   -> Kota A\n",
        "#  1 = [5, 6]   -> Kota B\n",
        "#  2 = [1, 4]    -> Kota C\n",
        "#  3 = [3, 4]    -> Kota D\n",
        "#  4 = [7, 7]  -> Kota E\n",
        "daftarKota = [[0, 0], [5, 6], [1, 4], [3, 4], [7, 7]]\n",
        "\n",
        "for i in daftarKota:\n",
        "    for j in i:\n",
        "        print(j, end = \" \")\n",
        "    print()\n",
        "\n",
        "jumlahKota = len(daftarKota)"
      ]
    },
    {
      "cell_type": "markdown",
      "metadata": {
        "id": "XJU_wViIBSmy"
      },
      "source": [
        "## INISIALISASI POPULASI"
      ]
    },
    {
      "cell_type": "code",
      "execution_count": 12,
      "metadata": {
        "colab": {
          "base_uri": "https://localhost:8080/"
        },
        "id": "vBWNJtHpBVqy",
        "outputId": "d68bb2e8-e37a-4093-d35c-6180efb060a0"
      },
      "outputs": [
        {
          "name": "stdout",
          "output_type": "stream",
          "text": [
            "[[0 2 3 1 4]\n",
            " [3 0 2 1 4]\n",
            " [3 0 4 1 2]\n",
            " [1 3 4 2 0]]\n"
          ]
        }
      ],
      "source": [
        "#Melakukan Inisialisasi Populasi\n",
        "\n",
        "def initPopulasi(ukuranPopulasi, jumlahKota):\n",
        "    P = np.empty((ukuranPopulasi, jumlahKota))\n",
        "    P = P.astype('int')\n",
        "    seed = np.random.default_rng(123)\n",
        "    for i in range(ukuranPopulasi):\n",
        "        I = np.random.permutation(jumlahKota)\n",
        "        for j in range(jumlahKota):\n",
        "            P[i][j] = I[j]\n",
        "    return P\n",
        "\n",
        "ukuranPopulasi = 4\n",
        "P = initPopulasi(ukuranPopulasi, jumlahKota)\n",
        "print(P)"
      ]
    },
    {
      "cell_type": "code",
      "execution_count": 13,
      "metadata": {},
      "outputs": [
        {
          "name": "stdout",
          "output_type": "stream",
          "text": [
            "[0 2 3 1 4]\n",
            "[3 0 2 1 4]\n",
            "[3 0 4 1 2]\n",
            "[1 3 4 2 0]\n",
            "28.990589563405603\n"
          ]
        }
      ],
      "source": [
        "#inisialisasi solusi \n",
        "I1 = P[0]  # [3 4 2 1 0] --> [D E C B A]\n",
        "print(I1)\n",
        "I2 = P[1]\n",
        "print(I2)\n",
        "I3 = P[2]\n",
        "print(I3)\n",
        "I4 = P[3]\n",
        "print(I4)\n",
        "\n",
        "# Menentukan Koordinat Kota  (coba D E C B A)\n",
        "#  0 = [0, 0]   -> Kota A\n",
        "#  1 = [5, 6]   -> Kota B\n",
        "#  2 = [1, 4]    -> Kota C\n",
        "#  3 = [3, 4]    -> Kota D\n",
        "#  4 = [7, 7]  -> Kota E\n",
        "\n",
        "\n",
        "#jarak1 = (((3-7)**2 + (4-7)**2)**(1/2))  +  (((7-1)**2 + (7-4)**2)**(1/2))  +  (((1-5)**2 + (4-6)**2)**(1/2))  +  (((5-0)**2 + (6-0)**2)**(1/2))  +  (((0-3)**2 + (0-4)**2)**(1/2))\n",
        "#print(jarak1)\n",
        "\n"
      ]
    },
    {
      "cell_type": "code",
      "execution_count": 14,
      "metadata": {},
      "outputs": [
        {
          "name": "stdout",
          "output_type": "stream",
          "text": [
            "jarak I1 =  21.087095664475306\n",
            "jarak I2 =  20.83130955811703\n",
            "jarak I3 =  23.607698869111033\n",
            "jarak I4 =  26.469986358769873\n"
          ]
        }
      ],
      "source": [
        "\n",
        "\n",
        "#hitung jarak pada I1\n",
        "jarakI1 = 0\n",
        "for i in range(jumlahKota):\n",
        "    #print(i)\n",
        "    jarakI1 += ((daftarKota[I1[i]][0] - daftarKota[I1[(i+1)%jumlahKota]][0])**2 + (daftarKota[I1[i]][1] - daftarKota[I1[(i+1)%jumlahKota]][1])**2)**(1/2)\n",
        "print(\"jarak I1 = \", jarakI1)\n",
        "\n",
        "#hitung jarak pada I2\n",
        "jarakI2 = 0\n",
        "for i in range(jumlahKota):\n",
        "    #print(i)\n",
        "    jarakI2 += ((daftarKota[I2[i]][0] - daftarKota[I2[(i+1)%jumlahKota]][0])**2 + (daftarKota[I2[i]][1] - daftarKota[I2[(i+1)%jumlahKota]][1])**2)**(1/2)\n",
        "print(\"jarak I2 = \", jarakI2)\n",
        "\n",
        "#hitung jarak pada I3\n",
        "jarakI3 = 0\n",
        "for i in range(jumlahKota):\n",
        "    #print(i)\n",
        "    jarakI3 += ((daftarKota[I3[i]][0] - daftarKota[I3[(i+1)%jumlahKota]][0])**2 + (daftarKota[I3[i]][1] - daftarKota[I3[(i+1)%jumlahKota]][1])**2)**(1/2)\n",
        "print(\"jarak I3 = \", jarakI3)\n",
        "\n",
        "#hitung jarak pada I4\n",
        "jarakI4 = 0\n",
        "for i in range(jumlahKota):\n",
        "    #print(i)\n",
        "    jarakI4 += ((daftarKota[I4[i]][0] - daftarKota[I4[(i+1)%jumlahKota]][0])**2 + (daftarKota[I4[i]][1] - daftarKota[I4[(i+1)%jumlahKota]][1])**2)**(1/2)\n",
        "print(\"jarak I4 = \", jarakI4)\n",
        "\n"
      ]
    },
    {
      "cell_type": "markdown",
      "metadata": {
        "id": "GUGjgPccERGi"
      },
      "source": [
        "## INISIALISASI PARAMETER"
      ]
    },
    {
      "cell_type": "code",
      "execution_count": 59,
      "metadata": {
        "id": "Vqx18KfHEUlk"
      },
      "outputs": [
        {
          "ename": "IndexError",
          "evalue": "index 7 is out of bounds for axis 0 with size 5",
          "output_type": "error",
          "traceback": [
            "\u001b[1;31m---------------------------------------------------------------------------\u001b[0m",
            "\u001b[1;31mIndexError\u001b[0m                                Traceback (most recent call last)",
            "\u001b[1;32me:\\TUGAS KULIAH\\SEMESTER 9(ANTARA)\\TEKNIK OPTIMALISASI\\tugas\\TSP_672019229.ipynb Cell 8'\u001b[0m in \u001b[0;36m<cell line: 23>\u001b[1;34m()\u001b[0m\n\u001b[0;32m     <a href='vscode-notebook-cell:/e%3A/TUGAS%20KULIAH/SEMESTER%209%28ANTARA%29/TEKNIK%20OPTIMALISASI/tugas/TSP_672019229.ipynb#ch0000007?line=19'>20</a>\u001b[0m         \u001b[39mprint\u001b[39m(jarak[i])\n\u001b[0;32m     <a href='vscode-notebook-cell:/e%3A/TUGAS%20KULIAH/SEMESTER%209%28ANTARA%29/TEKNIK%20OPTIMALISASI/tugas/TSP_672019229.ipynb#ch0000007?line=20'>21</a>\u001b[0m     \u001b[39mreturn\u001b[39;00m jarak\n\u001b[1;32m---> <a href='vscode-notebook-cell:/e%3A/TUGAS%20KULIAH/SEMESTER%209%28ANTARA%29/TEKNIK%20OPTIMALISASI/tugas/TSP_672019229.ipynb#ch0000007?line=22'>23</a>\u001b[0m hitungKualitas(P, daftarKota)\n",
            "\u001b[1;32me:\\TUGAS KULIAH\\SEMESTER 9(ANTARA)\\TEKNIK OPTIMALISASI\\tugas\\TSP_672019229.ipynb Cell 8'\u001b[0m in \u001b[0;36mhitungKualitas\u001b[1;34m(P, daftarKota)\u001b[0m\n\u001b[0;32m     <a href='vscode-notebook-cell:/e%3A/TUGAS%20KULIAH/SEMESTER%209%28ANTARA%29/TEKNIK%20OPTIMALISASI/tugas/TSP_672019229.ipynb#ch0000007?line=16'>17</a>\u001b[0m jarak \u001b[39m=\u001b[39m \u001b[39m0\u001b[39m\n\u001b[0;32m     <a href='vscode-notebook-cell:/e%3A/TUGAS%20KULIAH/SEMESTER%209%28ANTARA%29/TEKNIK%20OPTIMALISASI/tugas/TSP_672019229.ipynb#ch0000007?line=17'>18</a>\u001b[0m \u001b[39mfor\u001b[39;00m i \u001b[39min\u001b[39;00m \u001b[39mrange\u001b[39m(jumlahKota):\n\u001b[1;32m---> <a href='vscode-notebook-cell:/e%3A/TUGAS%20KULIAH/SEMESTER%209%28ANTARA%29/TEKNIK%20OPTIMALISASI/tugas/TSP_672019229.ipynb#ch0000007?line=18'>19</a>\u001b[0m     jarak \u001b[39m+\u001b[39m\u001b[39m=\u001b[39m ((daftarKota[P[i][j]][\u001b[39m0\u001b[39m] \u001b[39m-\u001b[39m daftarKota[P[i\u001b[39m-\u001b[39m\u001b[39m1\u001b[39m][j]][\u001b[39m0\u001b[39m])\u001b[39m*\u001b[39m\u001b[39m*\u001b[39m\u001b[39m2\u001b[39m \u001b[39m+\u001b[39m (daftarKota[P[i][j]][\u001b[39m1\u001b[39m] \u001b[39m-\u001b[39m daftarKota[P[i\u001b[39m-\u001b[39m\u001b[39m1\u001b[39m][j]][\u001b[39m1\u001b[39m])\u001b[39m*\u001b[39m\u001b[39m*\u001b[39m\u001b[39m2\u001b[39m)\u001b[39m*\u001b[39m\u001b[39m*\u001b[39m\u001b[39m0.5\u001b[39m\n\u001b[0;32m     <a href='vscode-notebook-cell:/e%3A/TUGAS%20KULIAH/SEMESTER%209%28ANTARA%29/TEKNIK%20OPTIMALISASI/tugas/TSP_672019229.ipynb#ch0000007?line=19'>20</a>\u001b[0m     \u001b[39mprint\u001b[39m(jarak[i])\n\u001b[0;32m     <a href='vscode-notebook-cell:/e%3A/TUGAS%20KULIAH/SEMESTER%209%28ANTARA%29/TEKNIK%20OPTIMALISASI/tugas/TSP_672019229.ipynb#ch0000007?line=20'>21</a>\u001b[0m \u001b[39mreturn\u001b[39;00m jarak\n",
            "\u001b[1;31mIndexError\u001b[0m: index 7 is out of bounds for axis 0 with size 5"
          ]
        }
      ],
      "source": [
        "# Inisialisasi Parameter\n",
        "Pc = 0.95 #kemungkinan untuk melakukan crossover\n",
        "Pm = 0.01 #kemungkinan untuk melakukan mutasi\n",
        "\n",
        "\n",
        "\"\"\"\n",
        "#hitung kualitas terbaik\n",
        "def hitungKualitas(P, daftarKota):\n",
        "    jarak = 0\n",
        "    for i in range(jumlahKota):\n",
        "        jarak += ((daftarKota[P[i][j]][0] - daftarKota[P[i-1][j]][0])**2 + (daftarKota[P[i][j]][1] - daftarKota[P[i-1][j]][1])**2)**0.5\n",
        "    return jarak\n",
        "\"\"\"\n",
        "\n",
        "#Menghitung kualitas solusi (fitness)\n",
        "def hitungKualitas(P, daftarKota):\n",
        "    jarak = 0\n",
        "    for i in range(jumlahKota):\n",
        "        jarak += ((daftarKota[P[i][j]][0] - daftarKota[P[i-1][j]][0])**2 + (daftarKota[P[i][j]][1] - daftarKota[P[i-1][j]][1])**2)**0.5\n",
        "        print(jarak[i])\n",
        "    return jarak"
      ]
    },
    {
      "cell_type": "code",
      "execution_count": 39,
      "metadata": {},
      "outputs": [
        {
          "name": "stdout",
          "output_type": "stream",
          "text": [
            "a\n"
          ]
        }
      ],
      "source": [
        "print('a')"
      ]
    }
  ],
  "metadata": {
    "colab": {
      "collapsed_sections": [],
      "name": "TSP_672019229.ipynb",
      "provenance": []
    },
    "kernelspec": {
      "display_name": "Python 3",
      "name": "python3"
    },
    "language_info": {
      "codemirror_mode": {
        "name": "ipython",
        "version": 3
      },
      "file_extension": ".py",
      "mimetype": "text/x-python",
      "name": "python",
      "nbconvert_exporter": "python",
      "pygments_lexer": "ipython3",
      "version": "3.8.6"
    }
  },
  "nbformat": 4,
  "nbformat_minor": 0
}
